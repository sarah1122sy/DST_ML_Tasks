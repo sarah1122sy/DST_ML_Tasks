{
  "cells": [
    {
      "cell_type": "markdown",
      "metadata": {
        "id": "i9m_zAI37bLe"
      },
      "source": [
        "# NumPy Exercises\n",
        "\n",
        "Now that we've learned about NumPy let's test your knowledge. We'll start off with a few simple tasks, and then you'll be asked some more complicated questions."
      ]
    },
    {
      "cell_type": "markdown",
      "metadata": {
        "id": "4sd-UPsW7bLi"
      },
      "source": [
        "#### Import NumPy as np"
      ]
    },
    {
      "cell_type": "code",
      "execution_count": 102,
      "metadata": {
        "collapsed": true,
        "id": "dKDD2Sml7bLk"
      },
      "outputs": [],
      "source": [
        "import numpy as np"
      ]
    },
    {
      "cell_type": "markdown",
      "metadata": {
        "id": "9Q6buDlG7bLn"
      },
      "source": [
        "#### Create an array of 10 zeros"
      ]
    },
    {
      "cell_type": "code",
      "execution_count": 103,
      "metadata": {
        "colab": {
          "base_uri": "https://localhost:8080/"
        },
        "id": "9u_53-oe7bLp",
        "outputId": "bc3e1d11-e035-4e2e-df32-5387a079cc7a"
      },
      "outputs": [
        {
          "data": {
            "text/plain": [
              "array([0., 0., 0., 0., 0., 0., 0., 0., 0., 0.])"
            ]
          },
          "execution_count": 103,
          "metadata": {},
          "output_type": "execute_result"
        }
      ],
      "source": [
        "np.zeros(10)"
      ]
    },
    {
      "cell_type": "markdown",
      "metadata": {
        "id": "MnHpSj1j7bLq"
      },
      "source": [
        "#### Create an array of 10 ones"
      ]
    },
    {
      "cell_type": "code",
      "execution_count": 104,
      "metadata": {
        "colab": {
          "base_uri": "https://localhost:8080/"
        },
        "id": "sB-o2-i-7bLs",
        "outputId": "cf5aacf7-2bd7-42ce-b706-4d975c2a2719"
      },
      "outputs": [
        {
          "data": {
            "text/plain": [
              "array([1., 1., 1., 1., 1., 1., 1., 1., 1., 1.])"
            ]
          },
          "execution_count": 104,
          "metadata": {},
          "output_type": "execute_result"
        }
      ],
      "source": [
        "np.ones(10)"
      ]
    },
    {
      "cell_type": "markdown",
      "metadata": {
        "id": "XsTsIDgA7bLs"
      },
      "source": [
        "#### Create an array of 10 fives"
      ]
    },
    {
      "cell_type": "code",
      "execution_count": 105,
      "metadata": {
        "colab": {
          "base_uri": "https://localhost:8080/"
        },
        "id": "9kxdPoqS7bLu",
        "outputId": "b35f6ebd-6be2-4dff-fc16-073b15693dfe"
      },
      "outputs": [
        {
          "data": {
            "text/plain": [
              "array([5., 5., 5., 5., 5., 5., 5., 5., 5., 5.])"
            ]
          },
          "execution_count": 105,
          "metadata": {},
          "output_type": "execute_result"
        }
      ],
      "source": [
        "#1\n",
        "np.ones(10)*5"
      ]
    },
    {
      "cell_type": "code",
      "execution_count": 106,
      "metadata": {
        "colab": {
          "base_uri": "https://localhost:8080/"
        },
        "id": "c1lUl-uJzxEK",
        "outputId": "6c957be2-aae6-473d-e4df-43551c6a8a16"
      },
      "outputs": [
        {
          "data": {
            "text/plain": [
              "array([5, 5, 5, 5, 5, 5, 5, 5, 5, 5])"
            ]
          },
          "execution_count": 106,
          "metadata": {},
          "output_type": "execute_result"
        }
      ],
      "source": [
        "#2\n",
        "np.array([5]*10)"
      ]
    },
    {
      "cell_type": "markdown",
      "metadata": {
        "id": "pTYyJXFz7bLw"
      },
      "source": [
        "#### Create an array of the integers from 10 to 50"
      ]
    },
    {
      "cell_type": "code",
      "execution_count": 107,
      "metadata": {
        "colab": {
          "base_uri": "https://localhost:8080/"
        },
        "id": "mg88Hxrb7bLx",
        "outputId": "ec50211a-c4ce-4081-ce02-c6b0fbc14692"
      },
      "outputs": [
        {
          "data": {
            "text/plain": [
              "array([10, 11, 12, 13, 14, 15, 16, 17, 18, 19, 20, 21, 22, 23, 24, 25, 26,\n",
              "       27, 28, 29, 30, 31, 32, 33, 34, 35, 36, 37, 38, 39, 40, 41, 42, 43,\n",
              "       44, 45, 46, 47, 48, 49, 50])"
            ]
          },
          "execution_count": 107,
          "metadata": {},
          "output_type": "execute_result"
        }
      ],
      "source": [
        "np.arange(10,51)"
      ]
    },
    {
      "cell_type": "markdown",
      "metadata": {
        "id": "48QpyfNb7bLy"
      },
      "source": [
        "#### Create an array of all the even integers from 10 to 50"
      ]
    },
    {
      "cell_type": "code",
      "execution_count": 108,
      "metadata": {
        "colab": {
          "base_uri": "https://localhost:8080/"
        },
        "id": "PtPSIdfe7bLz",
        "outputId": "d593c1cf-ee68-4b73-ce9e-8f8a98b9bfd6"
      },
      "outputs": [
        {
          "data": {
            "text/plain": [
              "array([10, 12, 14, 16, 18, 20, 22, 24, 26, 28, 30, 32, 34, 36, 38, 40, 42,\n",
              "       44, 46, 48, 50])"
            ]
          },
          "execution_count": 108,
          "metadata": {},
          "output_type": "execute_result"
        }
      ],
      "source": [
        "np.arange(10,51,2)"
      ]
    },
    {
      "cell_type": "markdown",
      "metadata": {
        "id": "C3KfzCeB7bL0"
      },
      "source": [
        "#### Create a 3x3 matrix with values ranging from 0 to 8"
      ]
    },
    {
      "cell_type": "code",
      "execution_count": 109,
      "metadata": {
        "colab": {
          "base_uri": "https://localhost:8080/"
        },
        "id": "MzXNPpfv7bL0",
        "outputId": "64d6e0cd-3413-436f-93cd-d1bbda60aa03"
      },
      "outputs": [
        {
          "data": {
            "text/plain": [
              "array([[0, 1, 2],\n",
              "       [3, 4, 5],\n",
              "       [6, 7, 8]])"
            ]
          },
          "execution_count": 109,
          "metadata": {},
          "output_type": "execute_result"
        }
      ],
      "source": [
        "#1\n",
        "np.arange(0,9).reshape(3,3)"
      ]
    },
    {
      "cell_type": "code",
      "execution_count": 110,
      "metadata": {
        "colab": {
          "base_uri": "https://localhost:8080/"
        },
        "id": "mThakibIX8tD",
        "outputId": "9aeca5ef-6864-449e-faef-36a061381f1e"
      },
      "outputs": [
        {
          "data": {
            "text/plain": [
              "array([[0, 1, 2],\n",
              "       [3, 4, 5],\n",
              "       [6, 7, 8]])"
            ]
          },
          "execution_count": 110,
          "metadata": {},
          "output_type": "execute_result"
        }
      ],
      "source": [
        "#2\n",
        "np.array([[0,1,2],[3,4,5],[6,7,8]])"
      ]
    },
    {
      "cell_type": "markdown",
      "metadata": {
        "id": "jehLfIpS7bL1"
      },
      "source": [
        "#### Create a 3x3 identity matrix"
      ]
    },
    {
      "cell_type": "code",
      "execution_count": 111,
      "metadata": {
        "colab": {
          "base_uri": "https://localhost:8080/"
        },
        "id": "zquarU1u7bL1",
        "outputId": "fba257f1-02b3-49c2-e307-5d198446750c"
      },
      "outputs": [
        {
          "data": {
            "text/plain": [
              "array([[1., 0., 0.],\n",
              "       [0., 1., 0.],\n",
              "       [0., 0., 1.]])"
            ]
          },
          "execution_count": 111,
          "metadata": {},
          "output_type": "execute_result"
        }
      ],
      "source": [
        "np.eye(3,3)"
      ]
    },
    {
      "cell_type": "markdown",
      "metadata": {
        "id": "3ht7Monl7bL2"
      },
      "source": [
        "#### Use NumPy to generate a random number between 0 and 1"
      ]
    },
    {
      "cell_type": "code",
      "execution_count": 112,
      "metadata": {
        "colab": {
          "base_uri": "https://localhost:8080/"
        },
        "id": "u_IG8IBq7bL3",
        "outputId": "bdc9585e-6488-4851-b7f7-daa237004e7f"
      },
      "outputs": [
        {
          "data": {
            "text/plain": [
              "0.6391575695881065"
            ]
          },
          "execution_count": 112,
          "metadata": {},
          "output_type": "execute_result"
        }
      ],
      "source": [
        "np.random.rand()"
      ]
    },
    {
      "cell_type": "markdown",
      "metadata": {
        "id": "3f_4Ntyq7bL4"
      },
      "source": [
        "#### Use NumPy to generate an array of 25 random numbers sampled from a standard normal distribution"
      ]
    },
    {
      "cell_type": "markdown",
      "metadata": {
        "id": "obOyblqT3JaG"
      },
      "source": [
        "we mentioned that the numpy.random.randn() generates samples from the **standard normal distribution**, which means it generates random numbers with a  **mean of 0 and a standard deviation of 1.**\n",
        "\n",
        "The range of values returned by numpy.random.randn() is theoretically unbounded, but in practice, most of the generated values will be within a few standard deviations of the mean. Specifically, approximately **99.7%** of the generated values will fall within t**hree standard deviations of the mean.** (which corresponds to the range from **-3 to 3**.)"
      ]
    },
    {
      "cell_type": "code",
      "execution_count": 113,
      "metadata": {
        "colab": {
          "base_uri": "https://localhost:8080/"
        },
        "id": "qRPDhdQf7bL5",
        "outputId": "e36deb98-0eca-4403-d36b-e4c66aa663f4"
      },
      "outputs": [
        {
          "data": {
            "text/plain": [
              "array([-0.68738175,  0.80372849,  0.00514849, -1.82858094,  0.59165873,\n",
              "        0.28772697, -0.06045505,  0.97569746,  0.970112  ,  0.68421299,\n",
              "       -0.37975864,  0.10712684,  0.43981762,  0.88222702, -0.77459112,\n",
              "        0.48348147,  1.48164983,  0.54777389,  1.0422592 ,  1.35658614,\n",
              "       -0.09850811, -0.81371363, -0.15283077,  0.45771082, -1.18709804])"
            ]
          },
          "execution_count": 113,
          "metadata": {},
          "output_type": "execute_result"
        }
      ],
      "source": [
        "arr=np.random.randn(25)\n",
        "arr"
      ]
    },
    {
      "cell_type": "markdown",
      "metadata": {
        "id": "tYvZDXAK3wNi"
      },
      "source": [
        "#### generate 20 random numbers following a normal distribution and ensure that they fall within the range of -2 to 2.\n",
        "\n",
        "---\n",
        "\n"
      ]
    },
    {
      "cell_type": "code",
      "execution_count": 114,
      "metadata": {
        "colab": {
          "base_uri": "https://localhost:8080/"
        },
        "id": "G6Egx5grNRgl",
        "outputId": "5fbf5b5e-0e07-4aef-c749-234188c27f14"
      },
      "outputs": [
        {
          "data": {
            "text/plain": [
              "array([-1.47303237,  1.94831705, -0.00909511,  0.54815904,  0.55844779,\n",
              "        1.40455632, -0.15749481, -0.86476071,  0.15505196, -0.08420028,\n",
              "       -0.44299519,  0.66271052,  0.25532643,  0.38441193,  0.05675519,\n",
              "        0.21435662,  0.21570212, -0.49845933,  0.56948308, -1.45110342])"
            ]
          },
          "execution_count": 114,
          "metadata": {},
          "output_type": "execute_result"
        }
      ],
      "source": [
        "arr=np.random.normal(0,1,20)\n",
        "arr=np.clip(arr, -2, 2)\n",
        "arr"
      ]
    },
    {
      "cell_type": "markdown",
      "metadata": {
        "id": "Sq35Jjju7bL5"
      },
      "source": [
        "Create the following matrix (as shown below).\n",
        "\n",
        "\n",
        "\n",
        "```\n",
        "[[0.01 0.02 0.03 0.04 0.05 0.06 0.07 0.08 0.09 0.1 ]\n",
        " [0.11 0.12 0.13 0.14 0.15 0.16 0.17 0.18 0.19 0.2 ]\n",
        " [0.21 0.22 0.23 0.24 0.25 0.26 0.27 0.28 0.29 0.3 ]\n",
        " [0.31 0.32 0.33 0.34 0.35 0.36 0.37 0.38 0.39 0.4 ]\n",
        " [0.41 0.42 0.43 0.44 0.45 0.46 0.47 0.48 0.49 0.5 ]\n",
        " [0.51 0.52 0.53 0.54 0.55 0.56 0.57 0.58 0.59 0.6 ]\n",
        " [0.61 0.62 0.63 0.64 0.65 0.66 0.67 0.68 0.69 0.7 ]\n",
        " [0.71 0.72 0.73 0.74 0.75 0.76 0.77 0.78 0.79 0.8 ]\n",
        " [0.81 0.82 0.83 0.84 0.85 0.86 0.87 0.88 0.89 0.9 ]\n",
        " [0.91 0.92 0.93 0.94 0.95 0.96 0.97 0.98 0.99 1.  ]]\n",
        "\n",
        "[[ 0.1  0.2  0.3  0.4  0.5  0.6  0.7  0.8  0.9  1. ]\n",
        " [ 1.1  1.2  1.3  1.4  1.5  1.6  1.7  1.8  1.9  2. ]\n",
        " [ 2.1  2.2  2.3  2.4  2.5  2.6  2.7  2.8  2.9  3. ]\n",
        " [ 3.1  3.2  3.3  3.4  3.5  3.6  3.7  3.8  3.9  4. ]\n",
        " [ 4.1  4.2  4.3  4.4  4.5  4.6  4.7  4.8  4.9  5. ]\n",
        " [ 5.1  5.2  5.3  5.4  5.5  5.6  5.7  5.8  5.9  6. ]\n",
        " [ 6.1  6.2  6.3  6.4  6.5  6.6  6.7  6.8  6.9  7. ]\n",
        " [ 7.1  7.2  7.3  7.4  7.5  7.6  7.7  7.8  7.9  8. ]\n",
        " [ 8.1  8.2  8.3  8.4  8.5  8.6  8.7  8.8  8.9  9. ]\n",
        " [ 9.1  9.2  9.3  9.4  9.5  9.6  9.7  9.8  9.9 10. ]]\n",
        "\n",
        "[[  1   2   3   4   5   6   7   8   9  10]\n",
        " [ 11  12  13  14  15  16  17  18  19  20]\n",
        " [ 21  22  23  24  25  26  27  28  29  30]\n",
        " [ 31  32  33  34  35  36  37  38  39  40]\n",
        " [ 41  42  43  44  45  46  47  48  49  50]\n",
        " [ 51  52  53  54  55  56  57  58  59  60]\n",
        " [ 61  62  63  64  65  66  67  68  69  70]\n",
        " [ 71  72  73  74  75  76  77  78  79  80]\n",
        " [ 81  82  83  84  85  86  87  88  89  90]\n",
        " [ 91  92  93  94  95  96  97  98  99 100]]\n",
        "\n",
        "```\n",
        "\n",
        "\n",
        "\n",
        "\n",
        "\n",
        "\n",
        "\n",
        "\n"
      ]
    },
    {
      "cell_type": "code",
      "execution_count": 115,
      "metadata": {
        "colab": {
          "base_uri": "https://localhost:8080/"
        },
        "id": "cy6PXt6v7bL6",
        "outputId": "dbc13ae6-8919-4612-eb57-c7c54d2caf48"
      },
      "outputs": [
        {
          "name": "stdout",
          "output_type": "stream",
          "text": [
            "[[0.01 0.02 0.03 0.04 0.05 0.06 0.07 0.08 0.09 0.1 ]\n",
            " [0.11 0.12 0.13 0.14 0.15 0.16 0.17 0.18 0.19 0.2 ]\n",
            " [0.21 0.22 0.23 0.24 0.25 0.26 0.27 0.28 0.29 0.3 ]\n",
            " [0.31 0.32 0.33 0.34 0.35 0.36 0.37 0.38 0.39 0.4 ]\n",
            " [0.41 0.42 0.43 0.44 0.45 0.46 0.47 0.48 0.49 0.5 ]\n",
            " [0.51 0.52 0.53 0.54 0.55 0.56 0.57 0.58 0.59 0.6 ]\n",
            " [0.61 0.62 0.63 0.64 0.65 0.66 0.67 0.68 0.69 0.7 ]\n",
            " [0.71 0.72 0.73 0.74 0.75 0.76 0.77 0.78 0.79 0.8 ]\n",
            " [0.81 0.82 0.83 0.84 0.85 0.86 0.87 0.88 0.89 0.9 ]\n",
            " [0.91 0.92 0.93 0.94 0.95 0.96 0.97 0.98 0.99 1.  ]]\n",
            "\n",
            "[[ 0.1  0.2  0.3  0.4  0.5  0.6  0.7  0.8  0.9  1. ]\n",
            " [ 1.1  1.2  1.3  1.4  1.5  1.6  1.7  1.8  1.9  2. ]\n",
            " [ 2.1  2.2  2.3  2.4  2.5  2.6  2.7  2.8  2.9  3. ]\n",
            " [ 3.1  3.2  3.3  3.4  3.5  3.6  3.7  3.8  3.9  4. ]\n",
            " [ 4.1  4.2  4.3  4.4  4.5  4.6  4.7  4.8  4.9  5. ]\n",
            " [ 5.1  5.2  5.3  5.4  5.5  5.6  5.7  5.8  5.9  6. ]\n",
            " [ 6.1  6.2  6.3  6.4  6.5  6.6  6.7  6.8  6.9  7. ]\n",
            " [ 7.1  7.2  7.3  7.4  7.5  7.6  7.7  7.8  7.9  8. ]\n",
            " [ 8.1  8.2  8.3  8.4  8.5  8.6  8.7  8.8  8.9  9. ]\n",
            " [ 9.1  9.2  9.3  9.4  9.5  9.6  9.7  9.8  9.9 10. ]]\n",
            "\n",
            "[[  1.   2.   3.   4.   5.   6.   7.   8.   9.  10.]\n",
            " [ 11.  12.  13.  14.  15.  16.  17.  18.  19.  20.]\n",
            " [ 21.  22.  23.  24.  25.  26.  27.  28.  29.  30.]\n",
            " [ 31.  32.  33.  34.  35.  36.  37.  38.  39.  40.]\n",
            " [ 41.  42.  43.  44.  45.  46.  47.  48.  49.  50.]\n",
            " [ 51.  52.  53.  54.  55.  56.  57.  58.  59.  60.]\n",
            " [ 61.  62.  63.  64.  65.  66.  67.  68.  69.  70.]\n",
            " [ 71.  72.  73.  74.  75.  76.  77.  78.  79.  80.]\n",
            " [ 81.  82.  83.  84.  85.  86.  87.  88.  89.  90.]\n",
            " [ 91.  92.  93.  94.  95.  96.  97.  98.  99. 100.]]\n"
          ]
        }
      ],
      "source": [
        "arr=np.arange(0.01,1.01,0.01).reshape(10,10)\n",
        "print(arr,end=\"\\n\\n\")\n",
        "print(arr*10,end=\"\\n\\n\")\n",
        "print(arr*100)"
      ]
    },
    {
      "cell_type": "markdown",
      "metadata": {
        "id": "VRwoDjOU7bL7"
      },
      "source": [
        "#### Create an array of 20 linearly spaced points between 0 and 1:"
      ]
    },
    {
      "cell_type": "code",
      "execution_count": 116,
      "metadata": {
        "colab": {
          "base_uri": "https://localhost:8080/"
        },
        "id": "05EuVwhw7bL7",
        "outputId": "71d78ac9-44ef-487e-b777-ef7f7f948396"
      },
      "outputs": [
        {
          "data": {
            "text/plain": [
              "array([0.        , 0.05263158, 0.10526316, 0.15789474, 0.21052632,\n",
              "       0.26315789, 0.31578947, 0.36842105, 0.42105263, 0.47368421,\n",
              "       0.52631579, 0.57894737, 0.63157895, 0.68421053, 0.73684211,\n",
              "       0.78947368, 0.84210526, 0.89473684, 0.94736842, 1.        ])"
            ]
          },
          "execution_count": 116,
          "metadata": {},
          "output_type": "execute_result"
        }
      ],
      "source": [
        "np.linspace(0,1,20)"
      ]
    },
    {
      "cell_type": "markdown",
      "metadata": {
        "id": "Ztfp4r317bL7"
      },
      "source": [
        "## Numpy Indexing and Selection\n",
        "\n",
        "Now you will be given a few matrices, and be asked to replicate the resulting matrix **outputs**:"
      ]
    },
    {
      "cell_type": "code",
      "execution_count": 117,
      "metadata": {
        "colab": {
          "base_uri": "https://localhost:8080/"
        },
        "id": "mtWrSAc57bL8",
        "outputId": "1934d1ac-d676-4fbc-bab6-3641db9714d4"
      },
      "outputs": [
        {
          "data": {
            "text/plain": [
              "array([[ 1,  2,  3,  4,  5],\n",
              "       [ 6,  7,  8,  9, 10],\n",
              "       [11, 12, 13, 14, 15],\n",
              "       [16, 17, 18, 19, 20],\n",
              "       [21, 22, 23, 24, 25]])"
            ]
          },
          "execution_count": 117,
          "metadata": {},
          "output_type": "execute_result"
        }
      ],
      "source": [
        "mat = np.arange(1,26).reshape(5,5)\n",
        "mat"
      ]
    },
    {
      "cell_type": "code",
      "execution_count": 118,
      "metadata": {
        "colab": {
          "base_uri": "https://localhost:8080/"
        },
        "id": "P2Yu-6Ek7bMG",
        "outputId": "1b88019b-cfc4-4277-c9aa-0a89230e3f87"
      },
      "outputs": [
        {
          "data": {
            "text/plain": [
              "array([[12, 13, 14, 15],\n",
              "       [17, 18, 19, 20],\n",
              "       [22, 23, 24, 25]])"
            ]
          },
          "execution_count": 118,
          "metadata": {},
          "output_type": "execute_result"
        }
      ],
      "source": [
        "# show all rows without the first and second row, and all columns without the first column\n",
        "mat[2:,1:]"
      ]
    },
    {
      "cell_type": "code",
      "execution_count": 119,
      "metadata": {
        "colab": {
          "base_uri": "https://localhost:8080/"
        },
        "id": "XfFNhBcpAA3c",
        "outputId": "06722d41-c6ba-4307-bc02-fe040852c7c2"
      },
      "outputs": [
        {
          "data": {
            "text/plain": [
              "20"
            ]
          },
          "execution_count": 119,
          "metadata": {},
          "output_type": "execute_result"
        }
      ],
      "source": [
        "# Show \"20\" element in the matrix\n",
        "mat[3,4]"
      ]
    },
    {
      "cell_type": "code",
      "execution_count": 120,
      "metadata": {
        "colab": {
          "base_uri": "https://localhost:8080/"
        },
        "id": "TUTxdTY8AEo7",
        "outputId": "b29030e5-5db3-43da-ded8-c26de1b9ad9a"
      },
      "outputs": [
        {
          "data": {
            "text/plain": [
              "array([ 2,  7, 12])"
            ]
          },
          "execution_count": 120,
          "metadata": {},
          "output_type": "execute_result"
        }
      ],
      "source": [
        "# show the second column for the top 3 rows\n",
        "mat[0:3,1]"
      ]
    },
    {
      "cell_type": "code",
      "execution_count": 121,
      "metadata": {
        "colab": {
          "base_uri": "https://localhost:8080/"
        },
        "id": "MHtvoFhaAG6y",
        "outputId": "f70153c2-59cb-4a2b-cd3e-767c9d8f94d9"
      },
      "outputs": [
        {
          "data": {
            "text/plain": [
              "array([21, 22, 23, 24, 25])"
            ]
          },
          "execution_count": 121,
          "metadata": {},
          "output_type": "execute_result"
        }
      ],
      "source": [
        "# show the fifth row\n",
        "mat[4]"
      ]
    },
    {
      "cell_type": "code",
      "execution_count": 122,
      "metadata": {
        "colab": {
          "base_uri": "https://localhost:8080/"
        },
        "id": "hjWQoabIAJV3",
        "outputId": "19f5838c-bf0f-46e2-91cb-9ff8b2ee15fd"
      },
      "outputs": [
        {
          "data": {
            "text/plain": [
              "array([[16, 17, 18, 19, 20],\n",
              "       [21, 22, 23, 24, 25]])"
            ]
          },
          "execution_count": 122,
          "metadata": {},
          "output_type": "execute_result"
        }
      ],
      "source": [
        "# show all rows after the thrid row\n",
        "mat[3:]"
      ]
    },
    {
      "cell_type": "markdown",
      "metadata": {
        "id": "xkhiMAAm7bMH"
      },
      "source": [
        "### Now do the following"
      ]
    },
    {
      "cell_type": "markdown",
      "metadata": {
        "id": "FqInvzk77bMH"
      },
      "source": [
        "#### Get the sum of all the values in mat"
      ]
    },
    {
      "cell_type": "code",
      "execution_count": 123,
      "metadata": {
        "colab": {
          "base_uri": "https://localhost:8080/"
        },
        "id": "B-z3SpRo7bMI",
        "outputId": "8ee232f2-1ecb-4757-af25-792699e18a58"
      },
      "outputs": [
        {
          "data": {
            "text/plain": [
              "325"
            ]
          },
          "execution_count": 123,
          "metadata": {},
          "output_type": "execute_result"
        }
      ],
      "source": [
        "mat.sum()"
      ]
    },
    {
      "cell_type": "markdown",
      "metadata": {
        "id": "uqNq6Ybg7bMJ"
      },
      "source": [
        "Get the standard deviation of the values in 'mat' (you can check what the standard deviation is, here: https://byjus.com/maths/standard-deviation/, and we will talk about these concepts in more detail)."
      ]
    },
    {
      "cell_type": "code",
      "execution_count": 124,
      "metadata": {
        "colab": {
          "base_uri": "https://localhost:8080/"
        },
        "id": "cvLKDGR6B3tr",
        "outputId": "3d7a96d5-f652-40a5-ca06-1b8d416c8781"
      },
      "outputs": [
        {
          "data": {
            "text/plain": [
              "7.359800721939872"
            ]
          },
          "execution_count": 124,
          "metadata": {},
          "output_type": "execute_result"
        }
      ],
      "source": [
        "segma_f_xi2=(mat**2).sum()\n",
        "segma_2_f_xi=(mat.sum())**2\n",
        "variance=(1/24)*(segma_f_xi2-((1/25)*(segma_2_f_xi)))\n",
        "variance**0.5"
      ]
    },
    {
      "cell_type": "code",
      "execution_count": 125,
      "metadata": {
        "colab": {
          "base_uri": "https://localhost:8080/"
        },
        "id": "ma4KHBJ4EYPd",
        "outputId": "01e379a9-00d6-4af4-ce47-d694d232b637"
      },
      "outputs": [
        {
          "data": {
            "text/plain": [
              "7.211102550927978"
            ]
          },
          "execution_count": 125,
          "metadata": {},
          "output_type": "execute_result"
        }
      ],
      "source": [
        "#build-in function\n",
        "mat.std()"
      ]
    },
    {
      "cell_type": "markdown",
      "metadata": {
        "id": "MfCX9wnr7bMK"
      },
      "source": [
        "#### Get the sum of all the columns in mat"
      ]
    },
    {
      "cell_type": "code",
      "execution_count": 126,
      "metadata": {
        "colab": {
          "base_uri": "https://localhost:8080/"
        },
        "id": "JHLileE_7bMK",
        "outputId": "f108e8ef-e349-4009-e03c-569a29c7828d"
      },
      "outputs": [
        {
          "data": {
            "text/plain": [
              "array([55, 60, 65, 70, 75])"
            ]
          },
          "execution_count": 126,
          "metadata": {},
          "output_type": "execute_result"
        }
      ],
      "source": [
        "np.sum(mat, axis=0)"
      ]
    },
    {
      "cell_type": "markdown",
      "metadata": {
        "collapsed": true,
        "id": "h6fptc1L7bML"
      },
      "source": [
        "# Great Job!"
      ]
    }
  ],
  "metadata": {
    "colab": {
      "provenance": []
    },
    "kernelspec": {
      "display_name": "Python 3",
      "language": "python",
      "name": "python3"
    },
    "language_info": {
      "codemirror_mode": {
        "name": "ipython",
        "version": 3
      },
      "file_extension": ".py",
      "mimetype": "text/x-python",
      "name": "python",
      "nbconvert_exporter": "python",
      "pygments_lexer": "ipython3",
      "version": "3.11.9"
    }
  },
  "nbformat": 4,
  "nbformat_minor": 0
}
