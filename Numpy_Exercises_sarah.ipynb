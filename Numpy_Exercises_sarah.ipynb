{
  "cells": [
    {
      "cell_type": "markdown",
      "metadata": {
        "id": "i9m_zAI37bLe"
      },
      "source": [
        "# NumPy Exercises\n",
        "\n",
        "Now that we've learned about NumPy let's test your knowledge. We'll start off with a few simple tasks, and then you'll be asked some more complicated questions."
      ]
    },
    {
      "cell_type": "markdown",
      "metadata": {
        "id": "4sd-UPsW7bLi"
      },
      "source": [
        "#### Import NumPy as np"
      ]
    },
    {
      "cell_type": "code",
      "execution_count": 1,
      "metadata": {
        "collapsed": true,
        "id": "dKDD2Sml7bLk"
      },
      "outputs": [],
      "source": [
        "import numpy as np"
      ]
    },
    {
      "cell_type": "markdown",
      "metadata": {
        "id": "9Q6buDlG7bLn"
      },
      "source": [
        "#### Create an array of 10 zeros"
      ]
    },
    {
      "cell_type": "code",
      "execution_count": 2,
      "metadata": {
        "id": "9u_53-oe7bLp",
        "colab": {
          "base_uri": "https://localhost:8080/"
        },
        "outputId": "a3de2e68-f438-4834-f32c-e0f698f2afd9"
      },
      "outputs": [
        {
          "output_type": "execute_result",
          "data": {
            "text/plain": [
              "array([0., 0., 0., 0., 0., 0., 0., 0., 0., 0.])"
            ]
          },
          "metadata": {},
          "execution_count": 2
        }
      ],
      "source": [
        "np.zeros(10)"
      ]
    },
    {
      "cell_type": "markdown",
      "metadata": {
        "id": "MnHpSj1j7bLq"
      },
      "source": [
        "#### Create an array of 10 ones"
      ]
    },
    {
      "cell_type": "code",
      "execution_count": 3,
      "metadata": {
        "id": "sB-o2-i-7bLs",
        "colab": {
          "base_uri": "https://localhost:8080/"
        },
        "outputId": "1857cfab-0c7d-48bd-8f60-990ce37df2ec"
      },
      "outputs": [
        {
          "output_type": "execute_result",
          "data": {
            "text/plain": [
              "array([1., 1., 1., 1., 1., 1., 1., 1., 1., 1.])"
            ]
          },
          "metadata": {},
          "execution_count": 3
        }
      ],
      "source": [
        "np.ones(10)"
      ]
    },
    {
      "cell_type": "markdown",
      "metadata": {
        "id": "XsTsIDgA7bLs"
      },
      "source": [
        "#### Create an array of 10 fives"
      ]
    },
    {
      "cell_type": "code",
      "execution_count": 8,
      "metadata": {
        "id": "9kxdPoqS7bLu",
        "colab": {
          "base_uri": "https://localhost:8080/"
        },
        "outputId": "cab74ad1-5985-4735-dd02-c4fc126b1c92"
      },
      "outputs": [
        {
          "output_type": "execute_result",
          "data": {
            "text/plain": [
              "array([5., 5., 5., 5., 5., 5., 5., 5., 5., 5.])"
            ]
          },
          "metadata": {},
          "execution_count": 8
        }
      ],
      "source": [
        "#1\n",
        "np.ones(10)*5"
      ]
    },
    {
      "cell_type": "code",
      "source": [
        "#2\n",
        "np.array([5]*10)"
      ],
      "metadata": {
        "colab": {
          "base_uri": "https://localhost:8080/"
        },
        "id": "c1lUl-uJzxEK",
        "outputId": "6812a40e-a3cf-4612-8f8f-792fc523f4eb"
      },
      "execution_count": 9,
      "outputs": [
        {
          "output_type": "execute_result",
          "data": {
            "text/plain": [
              "array([5, 5, 5, 5, 5, 5, 5, 5, 5, 5])"
            ]
          },
          "metadata": {},
          "execution_count": 9
        }
      ]
    },
    {
      "cell_type": "markdown",
      "metadata": {
        "id": "pTYyJXFz7bLw"
      },
      "source": [
        "#### Create an array of the integers from 10 to 50"
      ]
    },
    {
      "cell_type": "code",
      "execution_count": 10,
      "metadata": {
        "id": "mg88Hxrb7bLx",
        "colab": {
          "base_uri": "https://localhost:8080/"
        },
        "outputId": "0a84ba16-d29b-4739-e72e-383e59b89b46"
      },
      "outputs": [
        {
          "output_type": "execute_result",
          "data": {
            "text/plain": [
              "array([10, 11, 12, 13, 14, 15, 16, 17, 18, 19, 20, 21, 22, 23, 24, 25, 26,\n",
              "       27, 28, 29, 30, 31, 32, 33, 34, 35, 36, 37, 38, 39, 40, 41, 42, 43,\n",
              "       44, 45, 46, 47, 48, 49, 50])"
            ]
          },
          "metadata": {},
          "execution_count": 10
        }
      ],
      "source": [
        "np.arange(10,51)"
      ]
    },
    {
      "cell_type": "markdown",
      "metadata": {
        "id": "48QpyfNb7bLy"
      },
      "source": [
        "#### Create an array of all the even integers from 10 to 50"
      ]
    },
    {
      "cell_type": "code",
      "execution_count": 11,
      "metadata": {
        "id": "PtPSIdfe7bLz",
        "colab": {
          "base_uri": "https://localhost:8080/"
        },
        "outputId": "0161ada3-8f66-4241-a7dc-43a75f66d95c"
      },
      "outputs": [
        {
          "output_type": "execute_result",
          "data": {
            "text/plain": [
              "array([10, 12, 14, 16, 18, 20, 22, 24, 26, 28, 30, 32, 34, 36, 38, 40, 42,\n",
              "       44, 46, 48, 50])"
            ]
          },
          "metadata": {},
          "execution_count": 11
        }
      ],
      "source": [
        "np.arange(10,51,2)"
      ]
    },
    {
      "cell_type": "markdown",
      "metadata": {
        "id": "C3KfzCeB7bL0"
      },
      "source": [
        "#### Create a 3x3 matrix with values ranging from 0 to 8"
      ]
    },
    {
      "cell_type": "code",
      "execution_count": 14,
      "metadata": {
        "id": "MzXNPpfv7bL0",
        "colab": {
          "base_uri": "https://localhost:8080/"
        },
        "outputId": "5d9aa9d8-df61-49f9-fcaf-c960d82d1095"
      },
      "outputs": [
        {
          "output_type": "execute_result",
          "data": {
            "text/plain": [
              "array([[0, 1, 2],\n",
              "       [3, 4, 5],\n",
              "       [6, 7, 8]])"
            ]
          },
          "metadata": {},
          "execution_count": 14
        }
      ],
      "source": [
        "np.arange(0,9).reshape(3,3)"
      ]
    },
    {
      "cell_type": "markdown",
      "metadata": {
        "id": "jehLfIpS7bL1"
      },
      "source": [
        "#### Create a 3x3 identity matrix"
      ]
    },
    {
      "cell_type": "code",
      "execution_count": 12,
      "metadata": {
        "id": "zquarU1u7bL1",
        "colab": {
          "base_uri": "https://localhost:8080/"
        },
        "outputId": "85462e3d-b6b0-485b-d164-0c6c8348d355"
      },
      "outputs": [
        {
          "output_type": "execute_result",
          "data": {
            "text/plain": [
              "array([[1., 0., 0.],\n",
              "       [0., 1., 0.],\n",
              "       [0., 0., 1.]])"
            ]
          },
          "metadata": {},
          "execution_count": 12
        }
      ],
      "source": [
        "np.eye(3,3)"
      ]
    },
    {
      "cell_type": "markdown",
      "metadata": {
        "id": "3ht7Monl7bL2"
      },
      "source": [
        "#### Use NumPy to generate a random number between 0 and 1"
      ]
    },
    {
      "cell_type": "code",
      "execution_count": 16,
      "metadata": {
        "id": "u_IG8IBq7bL3",
        "colab": {
          "base_uri": "https://localhost:8080/"
        },
        "outputId": "3bc40d82-674e-43d8-c3b6-ff1c6b35e12e"
      },
      "outputs": [
        {
          "output_type": "execute_result",
          "data": {
            "text/plain": [
              "0.8094496477240993"
            ]
          },
          "metadata": {},
          "execution_count": 16
        }
      ],
      "source": [
        "np.random.rand()"
      ]
    },
    {
      "cell_type": "markdown",
      "metadata": {
        "id": "3f_4Ntyq7bL4"
      },
      "source": [
        "#### Use NumPy to generate an array of 25 random numbers sampled from a standard normal distribution"
      ]
    },
    {
      "cell_type": "markdown",
      "source": [
        "we mentioned that the numpy.random.randn() generates samples from the **standard normal distribution**, which means it generates random numbers with a  **mean of 0 and a standard deviation of 1.**\n",
        "\n",
        "The range of values returned by numpy.random.randn() is theoretically unbounded, but in practice, most of the generated values will be within a few standard deviations of the mean. Specifically, approximately **99.7%** of the generated values will fall within t**hree standard deviations of the mean.** (which corresponds to the range from **-3 to 3**.)"
      ],
      "metadata": {
        "id": "obOyblqT3JaG"
      }
    },
    {
      "cell_type": "code",
      "execution_count": 171,
      "metadata": {
        "id": "qRPDhdQf7bL5",
        "colab": {
          "base_uri": "https://localhost:8080/"
        },
        "outputId": "6dce9ef0-f4a8-45ea-8df7-68417ccfc93b"
      },
      "outputs": [
        {
          "output_type": "execute_result",
          "data": {
            "text/plain": [
              "array([-2.38324945, -2.11967016,  0.42108537,  0.59416688, -1.75476381,\n",
              "       -0.91253308,  0.41816007, -0.62607364,  0.63835351,  2.88591843,\n",
              "       -0.67022732, -0.30452044, -0.56441852, -1.01399408,  0.40993269,\n",
              "       -0.88441171,  0.55922889, -1.2551405 ,  2.04370549,  0.59154728,\n",
              "       -0.21381476, -0.61295252,  0.37404055, -0.86564899, -0.81349099])"
            ]
          },
          "metadata": {},
          "execution_count": 171
        }
      ],
      "source": [
        "arr=np.random.randn(25)\n",
        "arr"
      ]
    },
    {
      "cell_type": "markdown",
      "source": [
        "#### generate 20 random numbers following a normal distribution and ensure that they fall within the range of -2 to 2.\n",
        "\n",
        "---\n",
        "\n"
      ],
      "metadata": {
        "id": "tYvZDXAK3wNi"
      }
    },
    {
      "cell_type": "code",
      "source": [
        "arr=arr[arr<2]\n",
        "print(len(arr))\n",
        "arr=arr[arr>-2]\n",
        "print(len(arr))\n",
        "arr=arr[:21]\n",
        "arr"
      ],
      "metadata": {
        "id": "yy4IKAEV4h1N",
        "colab": {
          "base_uri": "https://localhost:8080/"
        },
        "outputId": "146b03ce-e5aa-40ea-9c29-7e52afe526aa"
      },
      "execution_count": 172,
      "outputs": [
        {
          "output_type": "stream",
          "name": "stdout",
          "text": [
            "23\n",
            "21\n"
          ]
        },
        {
          "output_type": "execute_result",
          "data": {
            "text/plain": [
              "array([ 0.42108537,  0.59416688, -1.75476381, -0.91253308,  0.41816007,\n",
              "       -0.62607364,  0.63835351, -0.67022732, -0.30452044, -0.56441852,\n",
              "       -1.01399408,  0.40993269, -0.88441171,  0.55922889, -1.2551405 ,\n",
              "        0.59154728, -0.21381476, -0.61295252,  0.37404055, -0.86564899,\n",
              "       -0.81349099])"
            ]
          },
          "metadata": {},
          "execution_count": 172
        }
      ]
    },
    {
      "cell_type": "code",
      "source": [
        "arr=np.random.randn(25)\n",
        "print(arr)\n",
        "arr=arr[arr<2]\n",
        "print(len(arr))\n",
        "arr=arr[arr>-2]\n",
        "print(len(arr))\n",
        "arr=arr[:21]\n",
        "arr"
      ],
      "metadata": {
        "colab": {
          "base_uri": "https://localhost:8080/"
        },
        "id": "G6Egx5grNRgl",
        "outputId": "82794200-aa85-45d5-ad34-4a968c050bfd"
      },
      "execution_count": 211,
      "outputs": [
        {
          "output_type": "stream",
          "name": "stdout",
          "text": [
            "[ 2.17928903 -0.4829658   0.97545389 -1.1265267   2.44305122 -0.28479756\n",
            " -0.53679162 -1.97966262  0.54176396  0.60517312  1.33774313 -2.55138304\n",
            "  0.97120929  0.93808543 -0.26748662  0.96925747 -0.15673903  2.06655513\n",
            "  2.72361364 -1.27907391 -0.23021896 -0.03639475  1.29559534  0.67494168\n",
            "  1.18820022]\n",
            "21\n",
            "20\n"
          ]
        },
        {
          "output_type": "execute_result",
          "data": {
            "text/plain": [
              "array([-0.4829658 ,  0.97545389, -1.1265267 , -0.28479756, -0.53679162,\n",
              "       -1.97966262,  0.54176396,  0.60517312,  1.33774313,  0.97120929,\n",
              "        0.93808543, -0.26748662,  0.96925747, -0.15673903, -1.27907391,\n",
              "       -0.23021896, -0.03639475,  1.29559534,  0.67494168,  1.18820022])"
            ]
          },
          "metadata": {},
          "execution_count": 211
        }
      ]
    },
    {
      "cell_type": "markdown",
      "metadata": {
        "id": "Sq35Jjju7bL5"
      },
      "source": [
        "Create the following matrix (as shown below).\n",
        "\n",
        "\n",
        "\n",
        "```\n",
        "[[0.01 0.02 0.03 0.04 0.05 0.06 0.07 0.08 0.09 0.1 ]\n",
        " [0.11 0.12 0.13 0.14 0.15 0.16 0.17 0.18 0.19 0.2 ]\n",
        " [0.21 0.22 0.23 0.24 0.25 0.26 0.27 0.28 0.29 0.3 ]\n",
        " [0.31 0.32 0.33 0.34 0.35 0.36 0.37 0.38 0.39 0.4 ]\n",
        " [0.41 0.42 0.43 0.44 0.45 0.46 0.47 0.48 0.49 0.5 ]\n",
        " [0.51 0.52 0.53 0.54 0.55 0.56 0.57 0.58 0.59 0.6 ]\n",
        " [0.61 0.62 0.63 0.64 0.65 0.66 0.67 0.68 0.69 0.7 ]\n",
        " [0.71 0.72 0.73 0.74 0.75 0.76 0.77 0.78 0.79 0.8 ]\n",
        " [0.81 0.82 0.83 0.84 0.85 0.86 0.87 0.88 0.89 0.9 ]\n",
        " [0.91 0.92 0.93 0.94 0.95 0.96 0.97 0.98 0.99 1.  ]]\n",
        "\n",
        "[[ 0.1  0.2  0.3  0.4  0.5  0.6  0.7  0.8  0.9  1. ]\n",
        " [ 1.1  1.2  1.3  1.4  1.5  1.6  1.7  1.8  1.9  2. ]\n",
        " [ 2.1  2.2  2.3  2.4  2.5  2.6  2.7  2.8  2.9  3. ]\n",
        " [ 3.1  3.2  3.3  3.4  3.5  3.6  3.7  3.8  3.9  4. ]\n",
        " [ 4.1  4.2  4.3  4.4  4.5  4.6  4.7  4.8  4.9  5. ]\n",
        " [ 5.1  5.2  5.3  5.4  5.5  5.6  5.7  5.8  5.9  6. ]\n",
        " [ 6.1  6.2  6.3  6.4  6.5  6.6  6.7  6.8  6.9  7. ]\n",
        " [ 7.1  7.2  7.3  7.4  7.5  7.6  7.7  7.8  7.9  8. ]\n",
        " [ 8.1  8.2  8.3  8.4  8.5  8.6  8.7  8.8  8.9  9. ]\n",
        " [ 9.1  9.2  9.3  9.4  9.5  9.6  9.7  9.8  9.9 10. ]]\n",
        "\n",
        "[[  1   2   3   4   5   6   7   8   9  10]\n",
        " [ 11  12  13  14  15  16  17  18  19  20]\n",
        " [ 21  22  23  24  25  26  27  28  29  30]\n",
        " [ 31  32  33  34  35  36  37  38  39  40]\n",
        " [ 41  42  43  44  45  46  47  48  49  50]\n",
        " [ 51  52  53  54  55  56  57  58  59  60]\n",
        " [ 61  62  63  64  65  66  67  68  69  70]\n",
        " [ 71  72  73  74  75  76  77  78  79  80]\n",
        " [ 81  82  83  84  85  86  87  88  89  90]\n",
        " [ 91  92  93  94  95  96  97  98  99 100]]\n",
        "\n",
        "```\n",
        "\n",
        "\n",
        "\n",
        "\n",
        "\n",
        "\n",
        "\n",
        "\n"
      ]
    },
    {
      "cell_type": "code",
      "execution_count": 47,
      "metadata": {
        "id": "cy6PXt6v7bL6",
        "colab": {
          "base_uri": "https://localhost:8080/"
        },
        "outputId": "366699b2-e371-4618-d59f-6be5ca2ca75b"
      },
      "outputs": [
        {
          "output_type": "stream",
          "name": "stdout",
          "text": [
            "[[0.01 0.02 0.03 0.04 0.05 0.06 0.07 0.08 0.09 0.1 ]\n",
            " [0.11 0.12 0.13 0.14 0.15 0.16 0.17 0.18 0.19 0.2 ]\n",
            " [0.21 0.22 0.23 0.24 0.25 0.26 0.27 0.28 0.29 0.3 ]\n",
            " [0.31 0.32 0.33 0.34 0.35 0.36 0.37 0.38 0.39 0.4 ]\n",
            " [0.41 0.42 0.43 0.44 0.45 0.46 0.47 0.48 0.49 0.5 ]\n",
            " [0.51 0.52 0.53 0.54 0.55 0.56 0.57 0.58 0.59 0.6 ]\n",
            " [0.61 0.62 0.63 0.64 0.65 0.66 0.67 0.68 0.69 0.7 ]\n",
            " [0.71 0.72 0.73 0.74 0.75 0.76 0.77 0.78 0.79 0.8 ]\n",
            " [0.81 0.82 0.83 0.84 0.85 0.86 0.87 0.88 0.89 0.9 ]\n",
            " [0.91 0.92 0.93 0.94 0.95 0.96 0.97 0.98 0.99 1.  ]]\n",
            "\n",
            "[[ 0.1  0.2  0.3  0.4  0.5  0.6  0.7  0.8  0.9  1. ]\n",
            " [ 1.1  1.2  1.3  1.4  1.5  1.6  1.7  1.8  1.9  2. ]\n",
            " [ 2.1  2.2  2.3  2.4  2.5  2.6  2.7  2.8  2.9  3. ]\n",
            " [ 3.1  3.2  3.3  3.4  3.5  3.6  3.7  3.8  3.9  4. ]\n",
            " [ 4.1  4.2  4.3  4.4  4.5  4.6  4.7  4.8  4.9  5. ]\n",
            " [ 5.1  5.2  5.3  5.4  5.5  5.6  5.7  5.8  5.9  6. ]\n",
            " [ 6.1  6.2  6.3  6.4  6.5  6.6  6.7  6.8  6.9  7. ]\n",
            " [ 7.1  7.2  7.3  7.4  7.5  7.6  7.7  7.8  7.9  8. ]\n",
            " [ 8.1  8.2  8.3  8.4  8.5  8.6  8.7  8.8  8.9  9. ]\n",
            " [ 9.1  9.2  9.3  9.4  9.5  9.6  9.7  9.8  9.9 10. ]]\n",
            "\n",
            "[[  1.   2.   3.   4.   5.   6.   7.   8.   9.  10.]\n",
            " [ 11.  12.  13.  14.  15.  16.  17.  18.  19.  20.]\n",
            " [ 21.  22.  23.  24.  25.  26.  27.  28.  29.  30.]\n",
            " [ 31.  32.  33.  34.  35.  36.  37.  38.  39.  40.]\n",
            " [ 41.  42.  43.  44.  45.  46.  47.  48.  49.  50.]\n",
            " [ 51.  52.  53.  54.  55.  56.  57.  58.  59.  60.]\n",
            " [ 61.  62.  63.  64.  65.  66.  67.  68.  69.  70.]\n",
            " [ 71.  72.  73.  74.  75.  76.  77.  78.  79.  80.]\n",
            " [ 81.  82.  83.  84.  85.  86.  87.  88.  89.  90.]\n",
            " [ 91.  92.  93.  94.  95.  96.  97.  98.  99. 100.]]\n"
          ]
        }
      ],
      "source": [
        "arr=np.arange(0.01,1.01,0.01).reshape(10,10)\n",
        "print(arr,end=\"\\n\\n\")\n",
        "print(arr*10,end=\"\\n\\n\")\n",
        "print(arr*100)"
      ]
    },
    {
      "cell_type": "markdown",
      "metadata": {
        "id": "VRwoDjOU7bL7"
      },
      "source": [
        "#### Create an array of 20 linearly spaced points between 0 and 1:"
      ]
    },
    {
      "cell_type": "code",
      "execution_count": 48,
      "metadata": {
        "id": "05EuVwhw7bL7",
        "colab": {
          "base_uri": "https://localhost:8080/"
        },
        "outputId": "ed17a69d-63ff-449d-c56f-95ccabacd3a1"
      },
      "outputs": [
        {
          "output_type": "execute_result",
          "data": {
            "text/plain": [
              "array([0.        , 0.05263158, 0.10526316, 0.15789474, 0.21052632,\n",
              "       0.26315789, 0.31578947, 0.36842105, 0.42105263, 0.47368421,\n",
              "       0.52631579, 0.57894737, 0.63157895, 0.68421053, 0.73684211,\n",
              "       0.78947368, 0.84210526, 0.89473684, 0.94736842, 1.        ])"
            ]
          },
          "metadata": {},
          "execution_count": 48
        }
      ],
      "source": [
        "np.linspace(0,1,20)"
      ]
    },
    {
      "cell_type": "markdown",
      "metadata": {
        "id": "Ztfp4r317bL7"
      },
      "source": [
        "## Numpy Indexing and Selection\n",
        "\n",
        "Now you will be given a few matrices, and be asked to replicate the resulting matrix **outputs**:"
      ]
    },
    {
      "cell_type": "code",
      "execution_count": 50,
      "metadata": {
        "colab": {
          "base_uri": "https://localhost:8080/"
        },
        "id": "mtWrSAc57bL8",
        "outputId": "fd1de338-25cf-42d6-b027-c3ac64bdeeeb"
      },
      "outputs": [
        {
          "output_type": "execute_result",
          "data": {
            "text/plain": [
              "array([[ 1,  2,  3,  4,  5],\n",
              "       [ 6,  7,  8,  9, 10],\n",
              "       [11, 12, 13, 14, 15],\n",
              "       [16, 17, 18, 19, 20],\n",
              "       [21, 22, 23, 24, 25]])"
            ]
          },
          "metadata": {},
          "execution_count": 50
        }
      ],
      "source": [
        "mat = np.arange(1,26).reshape(5,5)\n",
        "mat"
      ]
    },
    {
      "cell_type": "code",
      "execution_count": 51,
      "metadata": {
        "id": "P2Yu-6Ek7bMG",
        "colab": {
          "base_uri": "https://localhost:8080/"
        },
        "outputId": "e0b96670-5c66-48b9-9b12-40f1c64cf43e"
      },
      "outputs": [
        {
          "output_type": "execute_result",
          "data": {
            "text/plain": [
              "array([[12, 13, 14, 15],\n",
              "       [17, 18, 19, 20],\n",
              "       [22, 23, 24, 25]])"
            ]
          },
          "metadata": {},
          "execution_count": 51
        }
      ],
      "source": [
        "# show all rows with the first and second row, and all columns without the first column\n",
        "mat[2:,1:]"
      ]
    },
    {
      "cell_type": "code",
      "source": [
        "# Show \"20\" element in the matrix\n",
        "mat[3,4]"
      ],
      "metadata": {
        "id": "XfFNhBcpAA3c",
        "colab": {
          "base_uri": "https://localhost:8080/"
        },
        "outputId": "049eb127-2df6-472a-8e19-e1171beab33b"
      },
      "execution_count": 53,
      "outputs": [
        {
          "output_type": "execute_result",
          "data": {
            "text/plain": [
              "20"
            ]
          },
          "metadata": {},
          "execution_count": 53
        }
      ]
    },
    {
      "cell_type": "code",
      "source": [
        "# show the second column for the top 3 rows\n",
        "mat[0:3,1]"
      ],
      "metadata": {
        "id": "TUTxdTY8AEo7",
        "colab": {
          "base_uri": "https://localhost:8080/"
        },
        "outputId": "33a8cefa-4a53-4dce-dc35-e506a8f15c91"
      },
      "execution_count": 63,
      "outputs": [
        {
          "output_type": "execute_result",
          "data": {
            "text/plain": [
              "array([ 2,  7, 12])"
            ]
          },
          "metadata": {},
          "execution_count": 63
        }
      ]
    },
    {
      "cell_type": "code",
      "source": [
        "# show the fifth row\n",
        "mat[4]"
      ],
      "metadata": {
        "id": "MHtvoFhaAG6y",
        "colab": {
          "base_uri": "https://localhost:8080/"
        },
        "outputId": "7474af9b-8cac-4618-d89e-1c98b322b609"
      },
      "execution_count": 62,
      "outputs": [
        {
          "output_type": "execute_result",
          "data": {
            "text/plain": [
              "array([21, 22, 23, 24, 25])"
            ]
          },
          "metadata": {},
          "execution_count": 62
        }
      ]
    },
    {
      "cell_type": "code",
      "source": [
        "# show all rows after the thrid row\n",
        "mat[3:]"
      ],
      "metadata": {
        "id": "hjWQoabIAJV3",
        "colab": {
          "base_uri": "https://localhost:8080/"
        },
        "outputId": "3157838e-ad28-4cb2-dda6-4151c512f46e"
      },
      "execution_count": 64,
      "outputs": [
        {
          "output_type": "execute_result",
          "data": {
            "text/plain": [
              "array([[16, 17, 18, 19, 20],\n",
              "       [21, 22, 23, 24, 25]])"
            ]
          },
          "metadata": {},
          "execution_count": 64
        }
      ]
    },
    {
      "cell_type": "markdown",
      "metadata": {
        "id": "xkhiMAAm7bMH"
      },
      "source": [
        "### Now do the following"
      ]
    },
    {
      "cell_type": "markdown",
      "metadata": {
        "id": "FqInvzk77bMH"
      },
      "source": [
        "#### Get the sum of all the values in mat"
      ]
    },
    {
      "cell_type": "code",
      "execution_count": 68,
      "metadata": {
        "id": "B-z3SpRo7bMI",
        "colab": {
          "base_uri": "https://localhost:8080/"
        },
        "outputId": "fa80b3b6-89b7-4f33-a164-c747603ca3ff"
      },
      "outputs": [
        {
          "output_type": "execute_result",
          "data": {
            "text/plain": [
              "325"
            ]
          },
          "metadata": {},
          "execution_count": 68
        }
      ],
      "source": [
        "mat.sum()"
      ]
    },
    {
      "cell_type": "markdown",
      "metadata": {
        "id": "uqNq6Ybg7bMJ"
      },
      "source": [
        "Get the standard deviation of the values in 'mat' (you can check what the standard deviation is, here: https://byjus.com/maths/standard-deviation/, and we will talk about these concepts in more detail)."
      ]
    },
    {
      "cell_type": "code",
      "source": [
        "segma_f_xi2=(mat**2).sum()\n",
        "segma_2_f_xi=(mat.sum())**2\n",
        "variance=(1/24)*(segma_f_xi2-((1/25)*(segma_2_f_xi)))\n",
        "variance**0.5"
      ],
      "metadata": {
        "colab": {
          "base_uri": "https://localhost:8080/"
        },
        "id": "cvLKDGR6B3tr",
        "outputId": "d486cc7d-4d25-487b-90b1-fe22349846c6"
      },
      "execution_count": 122,
      "outputs": [
        {
          "output_type": "execute_result",
          "data": {
            "text/plain": [
              "7.359800721939872"
            ]
          },
          "metadata": {},
          "execution_count": 122
        }
      ]
    },
    {
      "cell_type": "code",
      "source": [
        "#build in fun\n",
        "mat.std()"
      ],
      "metadata": {
        "colab": {
          "base_uri": "https://localhost:8080/"
        },
        "id": "ma4KHBJ4EYPd",
        "outputId": "e2d19a90-852d-4031-ec7a-6bb883d653bf"
      },
      "execution_count": 121,
      "outputs": [
        {
          "output_type": "execute_result",
          "data": {
            "text/plain": [
              "7.211102550927978"
            ]
          },
          "metadata": {},
          "execution_count": 121
        }
      ]
    },
    {
      "cell_type": "markdown",
      "metadata": {
        "id": "MfCX9wnr7bMK"
      },
      "source": [
        "#### Get the sum of all the columns in mat"
      ]
    },
    {
      "cell_type": "code",
      "execution_count": 71,
      "metadata": {
        "id": "JHLileE_7bMK",
        "colab": {
          "base_uri": "https://localhost:8080/"
        },
        "outputId": "a5260cd1-5129-4458-c149-ebad55194025"
      },
      "outputs": [
        {
          "output_type": "execute_result",
          "data": {
            "text/plain": [
              "array([55, 60, 65, 70, 75])"
            ]
          },
          "metadata": {},
          "execution_count": 71
        }
      ],
      "source": [
        "np.sum(mat, axis=0)"
      ]
    },
    {
      "cell_type": "markdown",
      "metadata": {
        "collapsed": true,
        "id": "h6fptc1L7bML"
      },
      "source": [
        "# Great Job!"
      ]
    }
  ],
  "metadata": {
    "kernelspec": {
      "display_name": "Python 3",
      "language": "python",
      "name": "python3"
    },
    "language_info": {
      "codemirror_mode": {
        "name": "ipython",
        "version": 3
      },
      "file_extension": ".py",
      "mimetype": "text/x-python",
      "name": "python",
      "nbconvert_exporter": "python",
      "pygments_lexer": "ipython3",
      "version": "3.5.1"
    },
    "colab": {
      "provenance": []
    }
  },
  "nbformat": 4,
  "nbformat_minor": 0
}